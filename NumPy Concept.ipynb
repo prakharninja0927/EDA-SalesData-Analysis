{
  "nbformat": 4,
  "nbformat_minor": 0,
  "metadata": {
    "colab": {
      "name": "Copy of Numpy_Most_Imp_Concepts.ipynb",
      "provenance": []
    },
    "kernelspec": {
      "name": "python3",
      "display_name": "Python 3"
    },
    "language_info": {
      "name": "python"
    }
  },
  "cells": [
    {
      "cell_type": "markdown",
      "metadata": {
        "id": "tUNnuDWMonZc"
      },
      "source": [
        "# Introduction\n",
        "- `NumPy` is the fundamental package for scientific computing in Python. \n",
        "- At the heart of Numpy is this wonderous concept of __VECTORIZATION__. In simple words, the library code is written in a way that your CPU has to do less work(cycles) by doing multiple operations at once.\n",
        "- Concretely, the library makes use of __Single Instruction Multiple Data(SIMD)__ instructions which allows the CPU to perform same operation on multiple datapoints simultaneouly in a single cycle.\n",
        "- At the core of `Numpy` package is the `ndarray` object. Think ndarray objects like those super-fast C-arrays but with an intuitive and simple interface.\n",
        "\n",
        ">Fun Fact: `Numpy` is written in `C`."
      ]
    },
    {
      "cell_type": "markdown",
      "metadata": {
        "id": "p4IpOMNeuzxp"
      },
      "source": [
        "# Creating Numpy Arrays\n",
        "\n",
        "By the way, `ndarray` stands for __n-dimensional array__.\n",
        "And an array is just a collection of elements."
      ]
    },
    {
      "cell_type": "code",
      "metadata": {
        "id": "P3ZA_IpzoX-8"
      },
      "source": [
        "#importing numpy with alias np\n",
        "import numpy as np"
      ],
      "execution_count": null,
      "outputs": []
    },
    {
      "cell_type": "code",
      "metadata": {
        "colab": {
          "base_uri": "https://localhost:8080/"
        },
        "id": "Hn0VBpnvvPzy",
        "outputId": "0e292a95-b21e-494f-9bae-872c5e55c325"
      },
      "source": [
        "#Creating numpy array from an iterable:list or tuple generally using np.array()\n",
        "arr = np.array([1, 2, 4, 5]) # or np.array((1,2,3,4,5))\n",
        "arr"
      ],
      "execution_count": null,
      "outputs": [
        {
          "output_type": "execute_result",
          "data": {
            "text/plain": [
              "array([1, 2, 4, 5])"
            ]
          },
          "metadata": {
            "tags": []
          },
          "execution_count": 2
        }
      ]
    },
    {
      "cell_type": "code",
      "metadata": {
        "colab": {
          "base_uri": "https://localhost:8080/"
        },
        "id": "MQFDlX9bve3Y",
        "outputId": "7a8af16a-c536-40b8-d175-50bb9815b82e"
      },
      "source": [
        "#curious to know what \"type()\" function does?\n",
        "type(arr)"
      ],
      "execution_count": null,
      "outputs": [
        {
          "output_type": "execute_result",
          "data": {
            "text/plain": [
              "numpy.ndarray"
            ]
          },
          "metadata": {
            "tags": []
          },
          "execution_count": 3
        }
      ]
    },
    {
      "cell_type": "code",
      "metadata": {
        "colab": {
          "base_uri": "https://localhost:8080/"
        },
        "id": "jrcyV9d2voxl",
        "outputId": "b0e3c1f7-1d90-4c62-f8da-6cd0be9a6e04"
      },
      "source": [
        "#create a numpy array in range:[start, end)\n",
        "arr_1 = np.arange(1, 10)\n",
        "arr_1"
      ],
      "execution_count": null,
      "outputs": [
        {
          "output_type": "execute_result",
          "data": {
            "text/plain": [
              "array([1, 2, 3, 4, 5, 6, 7, 8, 9])"
            ]
          },
          "metadata": {
            "tags": []
          },
          "execution_count": 4
        }
      ]
    },
    {
      "cell_type": "code",
      "metadata": {
        "colab": {
          "base_uri": "https://localhost:8080/"
        },
        "id": "aglkyF8IwKxU",
        "outputId": "f4c190c4-931e-4eee-adf8-42bdf1117fbe"
      },
      "source": [
        "#create a numpy array of evenly spaced values in [start, end] \n",
        "arr_2 = np.linspace(1, 10, num=20 #number of samples\n",
        ")\n",
        "arr_2"
      ],
      "execution_count": null,
      "outputs": [
        {
          "output_type": "execute_result",
          "data": {
            "text/plain": [
              "array([ 1.        ,  1.47368421,  1.94736842,  2.42105263,  2.89473684,\n",
              "        3.36842105,  3.84210526,  4.31578947,  4.78947368,  5.26315789,\n",
              "        5.73684211,  6.21052632,  6.68421053,  7.15789474,  7.63157895,\n",
              "        8.10526316,  8.57894737,  9.05263158,  9.52631579, 10.        ])"
            ]
          },
          "metadata": {
            "tags": []
          },
          "execution_count": 5
        }
      ]
    },
    {
      "cell_type": "code",
      "metadata": {
        "colab": {
          "base_uri": "https://localhost:8080/"
        },
        "id": "JuHvtJl6wgJq",
        "outputId": "6638df92-ce9d-4430-873d-202f0be7b331"
      },
      "source": [
        "#You can create the 2D arrays using np.array() constructor\n",
        "arr2d = np.array([[1, 2, 3], #row1\n",
        "                  [4, 5, 6] #row2\n",
        "                  ])\n",
        "arr2d"
      ],
      "execution_count": null,
      "outputs": [
        {
          "output_type": "execute_result",
          "data": {
            "text/plain": [
              "array([[1, 2, 3],\n",
              "       [4, 5, 6]])"
            ]
          },
          "metadata": {
            "tags": []
          },
          "execution_count": 6
        }
      ]
    },
    {
      "cell_type": "markdown",
      "metadata": {
        "id": "VZSVrjfYnZoj"
      },
      "source": [
        "## Read from file"
      ]
    },
    {
      "cell_type": "code",
      "metadata": {
        "colab": {
          "base_uri": "https://localhost:8080/"
        },
        "id": "6vV9vchals4F",
        "outputId": "6edeeb5b-2fe9-4ea3-f92b-2c02afca7a22"
      },
      "source": [
        "# Read Data as a 2D ndarray from a file\n",
        "housing_data = np.genfromtxt(\"sample_data/california_housing_test.csv\",\n",
        "              delimiter=\",\", #split every line at \"delimeter\"\n",
        "              skip_header=1 #skip the first \"skip_header\" lines\n",
        "              )\n",
        "\n",
        "print(housing_data)"
      ],
      "execution_count": null,
      "outputs": [
        {
          "output_type": "stream",
          "text": [
            "[[-1.22050e+02  3.73700e+01  2.70000e+01 ...  6.06000e+02  6.60850e+00\n",
            "   3.44700e+05]\n",
            " [-1.18300e+02  3.42600e+01  4.30000e+01 ...  2.77000e+02  3.59900e+00\n",
            "   1.76500e+05]\n",
            " [-1.17810e+02  3.37800e+01  2.70000e+01 ...  4.95000e+02  5.79340e+00\n",
            "   2.70500e+05]\n",
            " ...\n",
            " [-1.19700e+02  3.63000e+01  1.00000e+01 ...  2.20000e+02  2.28950e+00\n",
            "   6.20000e+04]\n",
            " [-1.17120e+02  3.41000e+01  4.00000e+01 ...  1.40000e+01  3.27080e+00\n",
            "   1.62500e+05]\n",
            " [-1.19630e+02  3.44200e+01  4.20000e+01 ...  2.60000e+02  8.56080e+00\n",
            "   5.00001e+05]]\n"
          ],
          "name": "stdout"
        }
      ]
    },
    {
      "cell_type": "code",
      "metadata": {
        "colab": {
          "base_uri": "https://localhost:8080/"
        },
        "id": "yZQJeSvq2NK5",
        "outputId": "7d56fd1f-36ec-44e0-a99c-db2b6bc4813b"
      },
      "source": [
        "#how to check dimensions(rows,  cols), I see you ask?\n",
        "housing_data.shape"
      ],
      "execution_count": null,
      "outputs": [
        {
          "output_type": "execute_result",
          "data": {
            "text/plain": [
              "(3000, 9)"
            ]
          },
          "metadata": {
            "tags": []
          },
          "execution_count": 8
        }
      ]
    },
    {
      "cell_type": "code",
      "metadata": {
        "colab": {
          "base_uri": "https://localhost:8080/"
        },
        "id": "rD5_O-wz3Lzu",
        "outputId": "14be829e-70fc-472c-b067-8b0736b4d7ea"
      },
      "source": [
        "#create a array of given dimension from standard normal distribution\n",
        "A = np.random.randn(10, 5) #array of 10 rows and 5 columns\n",
        "print(A)\n",
        "print()\n",
        "print(A.shape)"
      ],
      "execution_count": null,
      "outputs": [
        {
          "output_type": "stream",
          "text": [
            "[[-1.1390547   0.12694687  0.6414626  -0.06548827  0.53941647]\n",
            " [-0.30166362 -1.93428651  1.12490062  1.3750817  -1.83801152]\n",
            " [-0.01789082 -0.82431209  0.62155993  1.83701618 -1.61107131]\n",
            " [-0.64565741 -1.49598169 -1.09895761 -0.88114681 -1.0009263 ]\n",
            " [-0.35654913 -0.22430013  0.71605812  0.56935731  0.13839117]\n",
            " [-0.24287194 -1.40695912 -0.58795087  0.61633017  0.17483508]\n",
            " [ 0.86300751 -0.14918676  1.31417909  0.98636171 -1.35726436]\n",
            " [-0.502843   -0.60441945 -0.20571936  0.28237538  1.09149555]\n",
            " [ 0.53314116 -0.89928064  2.56702691  0.75000303  1.40781182]\n",
            " [-0.94092955  0.75815044 -1.55050068 -0.08498252  0.74744383]]\n",
            "\n",
            "(10, 5)\n"
          ],
          "name": "stdout"
        }
      ]
    },
    {
      "cell_type": "markdown",
      "metadata": {
        "id": "ghWLDhQ9e7M6"
      },
      "source": [
        "`ndarray.reshape(d0, d1,...)` : change dimensions(shape) of ndarray.\n",
        "\n",
        "Catch: make sure __d0 * d1 * ... *dn__ is equal to total number of elements in `ndarray`."
      ]
    },
    {
      "cell_type": "code",
      "metadata": {
        "colab": {
          "base_uri": "https://localhost:8080/"
        },
        "id": "XleZXK-Pe394",
        "outputId": "7b5cfe21-48a5-4e92-9793-dc171f66c55f"
      },
      "source": [
        "p = np.arange(1, 13)\n",
        "p #1D array of 12 elements"
      ],
      "execution_count": null,
      "outputs": [
        {
          "output_type": "execute_result",
          "data": {
            "text/plain": [
              "array([ 1,  2,  3,  4,  5,  6,  7,  8,  9, 10, 11, 12])"
            ]
          },
          "metadata": {
            "tags": []
          },
          "execution_count": 10
        }
      ]
    },
    {
      "cell_type": "code",
      "metadata": {
        "colab": {
          "base_uri": "https://localhost:8080/"
        },
        "id": "mAfRSZYhfViC",
        "outputId": "41271050-6187-4173-b6ac-4b3e76477500"
      },
      "source": [
        "#converting to 4x3 2D array\n",
        "p.reshape(4, 3)"
      ],
      "execution_count": null,
      "outputs": [
        {
          "output_type": "execute_result",
          "data": {
            "text/plain": [
              "array([[ 1,  2,  3],\n",
              "       [ 4,  5,  6],\n",
              "       [ 7,  8,  9],\n",
              "       [10, 11, 12]])"
            ]
          },
          "metadata": {
            "tags": []
          },
          "execution_count": 11
        }
      ]
    },
    {
      "cell_type": "code",
      "metadata": {
        "colab": {
          "base_uri": "https://localhost:8080/"
        },
        "id": "zTsvEWQgfqN8",
        "outputId": "c5d68c23-fae3-43d6-e27b-130e6367044c"
      },
      "source": [
        "#or even a 3D array\n",
        "p.reshape(2, 3, 2) #array of two 3x2 arrays"
      ],
      "execution_count": null,
      "outputs": [
        {
          "output_type": "execute_result",
          "data": {
            "text/plain": [
              "array([[[ 1,  2],\n",
              "        [ 3,  4],\n",
              "        [ 5,  6]],\n",
              "\n",
              "       [[ 7,  8],\n",
              "        [ 9, 10],\n",
              "        [11, 12]]])"
            ]
          },
          "metadata": {
            "tags": []
          },
          "execution_count": 12
        }
      ]
    },
    {
      "cell_type": "markdown",
      "metadata": {
        "id": "AA-1PeZL4Xrf"
      },
      "source": [
        "# Indexing Numpy Arrays"
      ]
    },
    {
      "cell_type": "code",
      "metadata": {
        "colab": {
          "base_uri": "https://localhost:8080/"
        },
        "id": "42dIqsrR3sbY",
        "outputId": "679e7f47-612f-4301-aea0-e75da4df394f"
      },
      "source": [
        "#single row\n",
        "A[3] #4th row"
      ],
      "execution_count": null,
      "outputs": [
        {
          "output_type": "execute_result",
          "data": {
            "text/plain": [
              "array([-0.64565741, -1.49598169, -1.09895761, -0.88114681, -1.0009263 ])"
            ]
          },
          "metadata": {
            "tags": []
          },
          "execution_count": 13
        }
      ]
    },
    {
      "cell_type": "code",
      "metadata": {
        "colab": {
          "base_uri": "https://localhost:8080/"
        },
        "id": "QrUtBX928Klj",
        "outputId": "683f4dd5-5285-4798-8cdd-234459423ec0"
      },
      "source": [
        "#range of rows\n",
        "A[3:7] #4th through 7th rows"
      ],
      "execution_count": null,
      "outputs": [
        {
          "output_type": "execute_result",
          "data": {
            "text/plain": [
              "array([[-0.64565741, -1.49598169, -1.09895761, -0.88114681, -1.0009263 ],\n",
              "       [-0.35654913, -0.22430013,  0.71605812,  0.56935731,  0.13839117],\n",
              "       [-0.24287194, -1.40695912, -0.58795087,  0.61633017,  0.17483508],\n",
              "       [ 0.86300751, -0.14918676,  1.31417909,  0.98636171, -1.35726436]])"
            ]
          },
          "metadata": {
            "tags": []
          },
          "execution_count": 14
        }
      ]
    },
    {
      "cell_type": "code",
      "metadata": {
        "colab": {
          "base_uri": "https://localhost:8080/"
        },
        "id": "lguUYZDp8dJ2",
        "outputId": "2e030f8b-9ea3-4bde-b71e-e3fd8d7bb8b9"
      },
      "source": [
        "A[6:] #7th row through last row"
      ],
      "execution_count": null,
      "outputs": [
        {
          "output_type": "execute_result",
          "data": {
            "text/plain": [
              "array([[ 0.86300751, -0.14918676,  1.31417909,  0.98636171, -1.35726436],\n",
              "       [-0.502843  , -0.60441945, -0.20571936,  0.28237538,  1.09149555],\n",
              "       [ 0.53314116, -0.89928064,  2.56702691,  0.75000303,  1.40781182],\n",
              "       [-0.94092955,  0.75815044, -1.55050068, -0.08498252,  0.74744383]])"
            ]
          },
          "metadata": {
            "tags": []
          },
          "execution_count": 15
        }
      ]
    },
    {
      "cell_type": "markdown",
      "metadata": {
        "id": "hBwZ-t878zcO"
      },
      "source": [
        "\n",
        "General Syntax for range based indexing:\n",
        "```Python\n",
        "ndarray[row_index, col_index]\n",
        "```\n",
        "- Omitting `col_index` gives all the columns of rows specified by `row_index`.\n",
        "- Note: both `col_index` and `row_index` can also be a range i.e. `colon(:)` syntax as in lists.\n",
        "\n"
      ]
    },
    {
      "cell_type": "code",
      "metadata": {
        "colab": {
          "base_uri": "https://localhost:8080/"
        },
        "id": "d4exTT-V9ytp",
        "outputId": "483b286c-f834-46e7-9a31-c858400201a6"
      },
      "source": [
        "#3rd and 4th column of all rows from 7th one\n",
        "A[6:, 2:4]"
      ],
      "execution_count": null,
      "outputs": [
        {
          "output_type": "execute_result",
          "data": {
            "text/plain": [
              "array([[ 1.31417909,  0.98636171],\n",
              "       [-0.20571936,  0.28237538],\n",
              "       [ 2.56702691,  0.75000303],\n",
              "       [-1.55050068, -0.08498252]])"
            ]
          },
          "metadata": {
            "tags": []
          },
          "execution_count": 16
        }
      ]
    },
    {
      "cell_type": "code",
      "metadata": {
        "colab": {
          "base_uri": "https://localhost:8080/"
        },
        "id": "c76rAiq_-OTD",
        "outputId": "de641227-28ac-4b94-b19a-93e18df7d193"
      },
      "source": [
        "#first two columns\n",
        "A[:, :2]"
      ],
      "execution_count": null,
      "outputs": [
        {
          "output_type": "execute_result",
          "data": {
            "text/plain": [
              "array([[-1.1390547 ,  0.12694687],\n",
              "       [-0.30166362, -1.93428651],\n",
              "       [-0.01789082, -0.82431209],\n",
              "       [-0.64565741, -1.49598169],\n",
              "       [-0.35654913, -0.22430013],\n",
              "       [-0.24287194, -1.40695912],\n",
              "       [ 0.86300751, -0.14918676],\n",
              "       [-0.502843  , -0.60441945],\n",
              "       [ 0.53314116, -0.89928064],\n",
              "       [-0.94092955,  0.75815044]])"
            ]
          },
          "metadata": {
            "tags": []
          },
          "execution_count": 17
        }
      ]
    },
    {
      "cell_type": "code",
      "metadata": {
        "colab": {
          "base_uri": "https://localhost:8080/"
        },
        "id": "bINaAccN8gnh",
        "outputId": "c9b3875f-06c2-44aa-92e6-ee47b24d411e"
      },
      "source": [
        "#extending the idea to get single element\n",
        "A[3, 2] #4th row, 3rd col"
      ],
      "execution_count": null,
      "outputs": [
        {
          "output_type": "execute_result",
          "data": {
            "text/plain": [
              "-1.0989576145023803"
            ]
          },
          "metadata": {
            "tags": []
          },
          "execution_count": 18
        }
      ]
    },
    {
      "cell_type": "code",
      "metadata": {
        "colab": {
          "base_uri": "https://localhost:8080/"
        },
        "id": "wtxAhkR19gdf",
        "outputId": "6fe6da14-4b76-4a5b-8f61-08c74bc8fc41"
      },
      "source": [
        "#selecting specific columns\n",
        "cols = [0, 2, 4] #1st, 3rd and 5th cols\n",
        "A[2:5, cols]"
      ],
      "execution_count": null,
      "outputs": [
        {
          "output_type": "execute_result",
          "data": {
            "text/plain": [
              "array([[-0.01789082,  0.62155993, -1.61107131],\n",
              "       [-0.64565741, -1.09895761, -1.0009263 ],\n",
              "       [-0.35654913,  0.71605812,  0.13839117]])"
            ]
          },
          "metadata": {
            "tags": []
          },
          "execution_count": 19
        }
      ]
    },
    {
      "cell_type": "code",
      "metadata": {
        "colab": {
          "base_uri": "https://localhost:8080/"
        },
        "id": "5MyFNHqA-LJr",
        "outputId": "18bc4eef-611e-4c1d-b690-ee590cdb84f5"
      },
      "source": [
        "#selecting specific rows\n",
        "rows = [1, 3, 5] #2nd, 4th and 6th row\n",
        "A[rows, 2:]"
      ],
      "execution_count": null,
      "outputs": [
        {
          "output_type": "execute_result",
          "data": {
            "text/plain": [
              "array([[ 1.12490062,  1.3750817 , -1.83801152],\n",
              "       [-1.09895761, -0.88114681, -1.0009263 ],\n",
              "       [-0.58795087,  0.61633017,  0.17483508]])"
            ]
          },
          "metadata": {
            "tags": []
          },
          "execution_count": 20
        }
      ]
    },
    {
      "cell_type": "code",
      "metadata": {
        "colab": {
          "base_uri": "https://localhost:8080/"
        },
        "id": "thTx3DnuDhnr",
        "outputId": "b79429bf-a709-4ce4-b97c-6dd7b4ae6def"
      },
      "source": [
        "#Btw sorry but this won't work as you might expect!\n",
        "A[rows, cols]"
      ],
      "execution_count": null,
      "outputs": [
        {
          "output_type": "execute_result",
          "data": {
            "text/plain": [
              "array([-0.30166362, -1.09895761,  0.17483508])"
            ]
          },
          "metadata": {
            "tags": []
          },
          "execution_count": 21
        }
      ]
    },
    {
      "cell_type": "markdown",
      "metadata": {
        "id": "5AUqaDJQEdtJ"
      },
      "source": [
        "- The above syntax actually gives a 1D slice of pair-wise elements.(if possible)\n",
        "- eg: if rows=[1,2] , cols=[3,4] , it returns $[A_{13}, A_{24}]$ (zero-based indexing)"
      ]
    },
    {
      "cell_type": "markdown",
      "metadata": {
        "id": "r3f2_veRFZbr"
      },
      "source": [
        "# Vectorization in Action\n",
        "\n",
        "- Applying operations to multiple datapoints at once"
      ]
    },
    {
      "cell_type": "markdown",
      "metadata": {
        "id": "7VSjpu5pGSNC"
      },
      "source": [
        "## Example 1 : Square all the items of a list\n",
        "\n",
        "Here's what you'll do right?\n",
        "\n",
        "```python\n",
        "sqrd_list = []\n",
        "for val in my_list:\n",
        "    sqrd_list.append(val**2)\n",
        "\n",
        "#or if you are a fan of list comprehensions\n",
        "sqrd_list = [val**2 for val in my_list]\n",
        "```\n",
        "\n",
        "- But what if we have millions of entries in our list. \n",
        "- Soon this `for` loop approach(s) becomes painful.\n",
        "\n",
        "- Vectorization will help us overcome this.\n",
        "\n",
        "- Here's how to do the same squaring operation in case of `ndarray`.\n"
      ]
    },
    {
      "cell_type": "code",
      "metadata": {
        "colab": {
          "base_uri": "https://localhost:8080/"
        },
        "id": "JoS8-zAtFbYE",
        "outputId": "d242bb0f-86d6-40fc-dd78-2f1d0ef5354d"
      },
      "source": [
        "B = np.arange(1,20)\n",
        "print(B)"
      ],
      "execution_count": null,
      "outputs": [
        {
          "output_type": "stream",
          "text": [
            "[ 1  2  3  4  5  6  7  8  9 10 11 12 13 14 15 16 17 18 19]\n"
          ],
          "name": "stdout"
        }
      ]
    },
    {
      "cell_type": "code",
      "metadata": {
        "colab": {
          "base_uri": "https://localhost:8080/"
        },
        "id": "ERxycf0jHWca",
        "outputId": "ef71c791-cf75-4641-c526-7330a4136d24"
      },
      "source": [
        "B**2"
      ],
      "execution_count": null,
      "outputs": [
        {
          "output_type": "execute_result",
          "data": {
            "text/plain": [
              "array([  1,   4,   9,  16,  25,  36,  49,  64,  81, 100, 121, 144, 169,\n",
              "       196, 225, 256, 289, 324, 361])"
            ]
          },
          "metadata": {
            "tags": []
          },
          "execution_count": 23
        }
      ]
    },
    {
      "cell_type": "markdown",
      "metadata": {
        "id": "nuDHhUB0HZ4T"
      },
      "source": [
        "- Seems like magic, isnt't it? well It felt to me when I first saw this!\n",
        "- Basically, what happened is square operation was performed on all elements at once.(well atleast, it will be veryyy less than  `len(list)` iterations as in case of `for` loop approach.\n",
        "## Why vectorization work? \n",
        "- The datatypes of all elements in a ndarray should be __same__.\n",
        "- if datatypes of all elements are same, it allows for __contagious__ allocation of memory implying faster access.\n",
        "- And most importantly because of the __BIG BRAINS__ who wrote the code for `ndarray` object!"
      ]
    },
    {
      "cell_type": "code",
      "metadata": {
        "id": "xRo0c1Bn2AIL"
      },
      "source": [
        "from google.colab import drive\n",
        "drive.mount('/content/drive')"
      ],
      "execution_count": null,
      "outputs": []
    },
    {
      "cell_type": "code",
      "metadata": {
        "id": "dTk_5q572BJc"
      },
      "source": [
        ""
      ],
      "execution_count": null,
      "outputs": []
    },
    {
      "cell_type": "code",
      "metadata": {
        "colab": {
          "base_uri": "https://localhost:8080/"
        },
        "id": "QBcRVH_cHYLH",
        "outputId": "67b38b74-9b57-41b9-c2dd-bd5b2231b36a"
      },
      "source": [
        "#here are few more examples of vectorization\n",
        "print(B-1, \"\\n\") #substract 1 from every element\n",
        "print(B+2, \"\\n\") #add 2 to every element\n",
        "print(B*3, \"\\n\") #multiply 3 to every element\n",
        "print(B/4, \"\\n\") #divide every element by 4"
      ],
      "execution_count": null,
      "outputs": [
        {
          "output_type": "stream",
          "text": [
            "[ 0  1  2  3  4  5  6  7  8  9 10 11 12 13 14 15 16 17 18] \n",
            "\n",
            "[ 3  4  5  6  7  8  9 10 11 12 13 14 15 16 17 18 19 20 21] \n",
            "\n",
            "[ 3  6  9 12 15 18 21 24 27 30 33 36 39 42 45 48 51 54 57] \n",
            "\n",
            "[0.25 0.5  0.75 1.   1.25 1.5  1.75 2.   2.25 2.5  2.75 3.   3.25 3.5\n",
            " 3.75 4.   4.25 4.5  4.75] \n",
            "\n"
          ],
          "name": "stdout"
        }
      ]
    },
    {
      "cell_type": "markdown",
      "metadata": {
        "id": "MVtR8YtHPPZl"
      },
      "source": [
        "In short all the [numeric](https://docs.python.org/3/library/stdtypes.html#numeric-types-int-float-complex) operations allow vectorization."
      ]
    },
    {
      "cell_type": "markdown",
      "metadata": {
        "id": "PfBQxMcnJHNy"
      },
      "source": [
        "## Example 2: Add elements of two same length lists\n",
        "\n",
        "This is how a typical \n",
        "```python\n",
        "sum_list = []\n",
        "for i in range(N): #N is the length of both list\n",
        "    sum_list = l1[i] + l2[i]\n",
        "```\n",
        "\n",
        "\n",
        "- It turns out, vectorization is not just limited to simple arithmetic operations.\n",
        "- Here's the vectorized implementation of above code."
      ]
    },
    {
      "cell_type": "code",
      "metadata": {
        "colab": {
          "base_uri": "https://localhost:8080/"
        },
        "id": "GL4qfhcZItWR",
        "outputId": "5f1118d9-d5c2-4cbe-f86c-dfb7f929fe41"
      },
      "source": [
        "l1 = np.arange(1,11)\n",
        "l2 = np.arange(1, 11)\n",
        "print(l1 + l2)"
      ],
      "execution_count": null,
      "outputs": [
        {
          "output_type": "stream",
          "text": [
            "[ 2  4  6  8 10 12 14 16 18 20]\n"
          ],
          "name": "stdout"
        }
      ]
    },
    {
      "cell_type": "code",
      "metadata": {
        "colab": {
          "base_uri": "https://localhost:8080/"
        },
        "id": "D7Ayf7BmK5uk",
        "outputId": "d379f4c6-f197-44e2-dcf1-8909dbe1d88b"
      },
      "source": [
        "#similarly\n",
        "print(l1*l2, \"\\n\")#multiply respective elements\n",
        "print(l1-l2, \"\\n\")#subtract respective elements\n",
        "print(l1/l2, \"\\n\")#divide every element of l1 by  l2"
      ],
      "execution_count": null,
      "outputs": [
        {
          "output_type": "stream",
          "text": [
            "[  1   4   9  16  25  36  49  64  81 100] \n",
            "\n",
            "[0 0 0 0 0 0 0 0 0 0] \n",
            "\n",
            "[1. 1. 1. 1. 1. 1. 1. 1. 1. 1.] \n",
            "\n"
          ],
          "name": "stdout"
        }
      ]
    },
    {
      "cell_type": "markdown",
      "metadata": {
        "id": "znLhy-9jLyM6"
      },
      "source": [
        "- The above idea can be extended to any dimensional arrays of __SAME__ shape."
      ]
    },
    {
      "cell_type": "markdown",
      "metadata": {
        "id": "1n1gd1sRQHi9"
      },
      "source": [
        "# Basic Statistics with Numpy\n",
        "\n"
      ]
    },
    {
      "cell_type": "markdown",
      "metadata": {
        "id": "KkBZOKcEpEa2"
      },
      "source": [
        "## Statistics for 1D arrays"
      ]
    },
    {
      "cell_type": "code",
      "metadata": {
        "colab": {
          "base_uri": "https://localhost:8080/"
        },
        "id": "woPpvHqhLqC2",
        "outputId": "6b2694a3-30ce-49fe-a65a-e50b41d3a53f"
      },
      "source": [
        "C = np.linspace(20, 100, num=75)\n",
        "print(C)"
      ],
      "execution_count": null,
      "outputs": [
        {
          "output_type": "stream",
          "text": [
            "[ 20.          21.08108108  22.16216216  23.24324324  24.32432432\n",
            "  25.40540541  26.48648649  27.56756757  28.64864865  29.72972973\n",
            "  30.81081081  31.89189189  32.97297297  34.05405405  35.13513514\n",
            "  36.21621622  37.2972973   38.37837838  39.45945946  40.54054054\n",
            "  41.62162162  42.7027027   43.78378378  44.86486486  45.94594595\n",
            "  47.02702703  48.10810811  49.18918919  50.27027027  51.35135135\n",
            "  52.43243243  53.51351351  54.59459459  55.67567568  56.75675676\n",
            "  57.83783784  58.91891892  60.          61.08108108  62.16216216\n",
            "  63.24324324  64.32432432  65.40540541  66.48648649  67.56756757\n",
            "  68.64864865  69.72972973  70.81081081  71.89189189  72.97297297\n",
            "  74.05405405  75.13513514  76.21621622  77.2972973   78.37837838\n",
            "  79.45945946  80.54054054  81.62162162  82.7027027   83.78378378\n",
            "  84.86486486  85.94594595  87.02702703  88.10810811  89.18918919\n",
            "  90.27027027  91.35135135  92.43243243  93.51351351  94.59459459\n",
            "  95.67567568  96.75675676  97.83783784  98.91891892 100.        ]\n"
          ],
          "name": "stdout"
        }
      ]
    },
    {
      "cell_type": "markdown",
      "metadata": {
        "id": "nkojwILiSDV_"
      },
      "source": [
        "- `ndarray` object has many methods that help us generate various statistics.\n",
        "- Entire list can be found [here](https://numpy.org/doc/stable/reference/routines.statistics.html). \n",
        "\n",
        "- Here are the most common method that you should be concerned,"
      ]
    },
    {
      "cell_type": "code",
      "metadata": {
        "colab": {
          "base_uri": "https://localhost:8080/"
        },
        "id": "MrI-6nEwRsL3",
        "outputId": "1c5de29d-36f2-4418-8aa2-b7b6dc129b8f"
      },
      "source": [
        "print(C.min())  #min of all values\n",
        "print(C.max())  #max of all values\n",
        "print(C.mean()) #mean of all values\n",
        "print(C.sum()) #sum of all values\n",
        "print(C.std()) #standard deviation of all values\n",
        "print(C.var()) #variance of all values"
      ],
      "execution_count": null,
      "outputs": [
        {
          "output_type": "stream",
          "text": [
            "20.0\n",
            "100.0\n",
            "60.0\n",
            "4500.0\n",
            "23.404011360186693\n",
            "547.7477477477478\n"
          ],
          "name": "stdout"
        }
      ]
    },
    {
      "cell_type": "markdown",
      "metadata": {
        "id": "NosNwhYJVZ3E"
      },
      "source": [
        "- If you are wondering, where is `ndarray.median`, Kathan! Well there's no __method__ like that.\n",
        "- But Numpy provides a __function__ `np.median()` for it :)\n",
        "\n",
        "### Function V/s Method\n",
        "- A function is standalone code segment.\n",
        "- A method is a code segment pertaining to a class/object."
      ]
    },
    {
      "cell_type": "code",
      "metadata": {
        "colab": {
          "base_uri": "https://localhost:8080/"
        },
        "id": "gTbBuMivRuM3",
        "outputId": "c0b03926-20d2-4c21-976c-3eb0d2c177ce"
      },
      "source": [
        "np.median(C) #median of all values"
      ],
      "execution_count": null,
      "outputs": [
        {
          "output_type": "execute_result",
          "data": {
            "text/plain": [
              "60.0"
            ]
          },
          "metadata": {
            "tags": []
          },
          "execution_count": 29
        }
      ]
    },
    {
      "cell_type": "markdown",
      "metadata": {
        "id": "1YjSqpxAgk1b"
      },
      "source": [
        "## Statistics for 2D arrays\n"
      ]
    },
    {
      "cell_type": "code",
      "metadata": {
        "id": "9l0tJNUHTaDE",
        "colab": {
          "base_uri": "https://localhost:8080/"
        },
        "outputId": "e990b598-f194-4345-ca81-12c8d7c9de40"
      },
      "source": [
        "Q = p.reshape(3, 4)\n",
        "Q"
      ],
      "execution_count": null,
      "outputs": [
        {
          "output_type": "execute_result",
          "data": {
            "text/plain": [
              "array([[ 1,  2,  3,  4],\n",
              "       [ 5,  6,  7,  8],\n",
              "       [ 9, 10, 11, 12]])"
            ]
          },
          "metadata": {
            "tags": []
          },
          "execution_count": 30
        }
      ]
    },
    {
      "cell_type": "code",
      "metadata": {
        "colab": {
          "base_uri": "https://localhost:8080/"
        },
        "id": "XX3t5QbTgxYG",
        "outputId": "4b384c55-48e9-4db5-f721-bcec11d67dd8"
      },
      "source": [
        "#if simply returns a single value, by taking all the elements of array\n",
        "print(Q.min())  #min of all values\n",
        "print(Q.max())  #max of all values\n",
        "print(Q.mean()) #mean of all values\n",
        "print(Q.sum()) #sum of all values\n",
        "print(Q.std()) #standard deviation\n",
        "print(Q.var()) #variance\n",
        "print(np.median(Q)) #median of all values"
      ],
      "execution_count": null,
      "outputs": [
        {
          "output_type": "stream",
          "text": [
            "1\n",
            "12\n",
            "6.5\n",
            "78\n",
            "3.452052529534663\n",
            "11.916666666666666\n",
            "6.5\n"
          ],
          "name": "stdout"
        }
      ]
    },
    {
      "cell_type": "markdown",
      "metadata": {
        "id": "SiTjr2OPiOwM"
      },
      "source": [
        "\n",
        "![image.png](data:image/png;base64,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)"
      ]
    },
    {
      "cell_type": "code",
      "metadata": {
        "colab": {
          "base_uri": "https://localhost:8080/"
        },
        "id": "GsujiEzZhIuK",
        "outputId": "2360a7c1-da7d-458e-b02c-bc97ee071705"
      },
      "source": [
        "#if you want statistics along rows (i.e. for each column)\n",
        "print(Q.min(axis=0))  #min of each columns\n",
        "print(Q.max(axis=0))  #max of each columns\n",
        "print(Q.mean(axis=0)) #mean of each columns\n",
        "print(Q.sum(axis=0)) #sum of each columns\n",
        "print(Q.std(axis=0)) #standard deviation of each column\n",
        "print(Q.var(axis=0)) #variance of each column\n",
        "print(np.median(Q, axis=0)) #median of each columns"
      ],
      "execution_count": null,
      "outputs": [
        {
          "output_type": "stream",
          "text": [
            "[1 2 3 4]\n",
            "[ 9 10 11 12]\n",
            "[5. 6. 7. 8.]\n",
            "[15 18 21 24]\n",
            "[3.26598632 3.26598632 3.26598632 3.26598632]\n",
            "[10.66666667 10.66666667 10.66666667 10.66666667]\n",
            "[5. 6. 7. 8.]\n"
          ],
          "name": "stdout"
        }
      ]
    },
    {
      "cell_type": "code",
      "metadata": {
        "colab": {
          "base_uri": "https://localhost:8080/"
        },
        "id": "kmt1A94Ti8Pg",
        "outputId": "04aab38a-6000-4eb9-c847-02ec9f68bf26"
      },
      "source": [
        "#if you want statistics along columns (i.e. for each row)\n",
        "print(Q.min(axis=1))  #min of each row\n",
        "print(Q.max(axis=1))  #max of each row\n",
        "print(Q.mean(axis=1)) #mean of each row\n",
        "print(Q.sum(axis=1)) #sum of each rows\n",
        "print(Q.std(axis=1)) #standard deviation of each row\n",
        "print(Q.var(axis=1)) #variance of each row\n",
        "print(np.median(Q, axis=1)) #median of each row"
      ],
      "execution_count": null,
      "outputs": [
        {
          "output_type": "stream",
          "text": [
            "[1 5 9]\n",
            "[ 4  8 12]\n",
            "[ 2.5  6.5 10.5]\n",
            "[10 26 42]\n",
            "[1.11803399 1.11803399 1.11803399]\n",
            "[1.25 1.25 1.25]\n",
            "[ 2.5  6.5 10.5]\n"
          ],
          "name": "stdout"
        }
      ]
    },
    {
      "cell_type": "markdown",
      "metadata": {
        "id": "AdE7Q4nWu4F9"
      },
      "source": [
        "# Boolean Indexing"
      ]
    },
    {
      "cell_type": "markdown",
      "metadata": {
        "id": "Q9iRfrv4jf2l"
      },
      "source": [
        "## Boolean Array\n",
        "- It is as the name suggests, array of boolean values.That is any value in the array will be either `True` or `False`.\n",
        "- Also known as boolean vector or boolean mask.\n",
        "\n",
        "- But why do you even care? I'll come to this in a while, but first let's see when do they come into play.\n",
        "\n"
      ]
    },
    {
      "cell_type": "code",
      "metadata": {
        "colab": {
          "base_uri": "https://localhost:8080/"
        },
        "id": "625EkOfgjO5y",
        "outputId": "35c99631-9953-4923-8042-5057df8b8ba1"
      },
      "source": [
        "#Comparison operations also support VECTORIZATION\n",
        "x = np.arange(1, 11)\n",
        "x"
      ],
      "execution_count": null,
      "outputs": [
        {
          "output_type": "execute_result",
          "data": {
            "text/plain": [
              "array([ 1,  2,  3,  4,  5,  6,  7,  8,  9, 10])"
            ]
          },
          "metadata": {
            "tags": []
          },
          "execution_count": 34
        }
      ]
    },
    {
      "cell_type": "code",
      "metadata": {
        "colab": {
          "base_uri": "https://localhost:8080/"
        },
        "id": "T-0EFgkCrg0u",
        "outputId": "afef96c1-01f9-4b82-c414-d0e78413c38c"
      },
      "source": [
        "#performs \"<=5\" operation on all the elements\n",
        "#similary <, >, >=, !=, == also work the same way\n",
        "x<=5"
      ],
      "execution_count": null,
      "outputs": [
        {
          "output_type": "execute_result",
          "data": {
            "text/plain": [
              "array([ True,  True,  True,  True,  True, False, False, False, False,\n",
              "       False])"
            ]
          },
          "metadata": {
            "tags": []
          },
          "execution_count": 35
        }
      ]
    },
    {
      "cell_type": "markdown",
      "metadata": {
        "id": "Ayyn82CBsVia"
      },
      "source": [
        "### Caution🧨\n",
        "You might be tempted to think that logical operators (`and`, `or`, `not`, etc...) also support vectorization.\n"
      ]
    },
    {
      "cell_type": "markdown",
      "metadata": {
        "id": "EFgYoJGPtUNb"
      },
      "source": [
        "![image.png](data:image/png;base64,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)"
      ]
    },
    {
      "cell_type": "markdown",
      "metadata": {
        "id": "WQq0zOB2uFk5"
      },
      "source": [
        "But worry not, Numpy provides `functions` to perform various logical operations using vectorizaton\n"
      ]
    },
    {
      "cell_type": "code",
      "metadata": {
        "colab": {
          "base_uri": "https://localhost:8080/"
        },
        "id": "yD8vRnuCrzu1",
        "outputId": "0b22a460-7da3-44ab-b51a-dbea9feeb3d8"
      },
      "source": [
        "#the condition check \"x<=6 and x>=5\" is made for every elements\n",
        "np.logical_and(x<=6, x>=5) "
      ],
      "execution_count": null,
      "outputs": [
        {
          "output_type": "execute_result",
          "data": {
            "text/plain": [
              "array([False, False, False, False,  True,  True, False, False, False,\n",
              "       False])"
            ]
          },
          "metadata": {
            "tags": []
          },
          "execution_count": 36
        }
      ]
    },
    {
      "cell_type": "code",
      "metadata": {
        "colab": {
          "base_uri": "https://localhost:8080/"
        },
        "id": "SVuC8CMotmPI",
        "outputId": "0c9d9b46-e678-457d-ab95-3c2249a382f7"
      },
      "source": [
        "#similarly \n",
        "print(np.logical_or(x<6, x>7))\n",
        "print(np.logical_not(x))\n",
        "print(np.logical_xor(x<2, x>4))"
      ],
      "execution_count": null,
      "outputs": [
        {
          "output_type": "stream",
          "text": [
            "[ True  True  True  True  True False False  True  True  True]\n",
            "[False False False False False False False False False False]\n",
            "[ True False False False  True  True  True  True  True  True]\n"
          ],
          "name": "stdout"
        }
      ]
    },
    {
      "cell_type": "markdown",
      "metadata": {
        "id": "_1KFbcnixSBg"
      },
      "source": [
        "Coming to the question, why do you care?\n",
        "\n",
        "- It turns out, Boolean Arrays helps us index `ndarrays `using `[]`."
      ]
    },
    {
      "cell_type": "code",
      "metadata": {
        "colab": {
          "base_uri": "https://localhost:8080/"
        },
        "id": "JAZhnF-IxwJ6",
        "outputId": "e7049823-fc39-48a7-eacf-f44c8f100c45"
      },
      "source": [
        "x_bool = x<=5 \n",
        "x_bool"
      ],
      "execution_count": null,
      "outputs": [
        {
          "output_type": "execute_result",
          "data": {
            "text/plain": [
              "array([ True,  True,  True,  True,  True, False, False, False, False,\n",
              "       False])"
            ]
          },
          "metadata": {
            "tags": []
          },
          "execution_count": 38
        }
      ]
    },
    {
      "cell_type": "code",
      "metadata": {
        "colab": {
          "base_uri": "https://localhost:8080/"
        },
        "id": "bP76eHzhygnW",
        "outputId": "8ae22a2d-9460-448a-ee1c-98d21bffee11"
      },
      "source": [
        "#filter all the elements less than equal to 5\n",
        "x[x_bool]"
      ],
      "execution_count": null,
      "outputs": [
        {
          "output_type": "execute_result",
          "data": {
            "text/plain": [
              "array([1, 2, 3, 4, 5])"
            ]
          },
          "metadata": {
            "tags": []
          },
          "execution_count": 39
        }
      ]
    },
    {
      "cell_type": "markdown",
      "metadata": {
        "id": "UtOuBDMayniG"
      },
      "source": [
        "- So, what happened here, is we only got those elements in which the corresponsing value was `True` in the Boolean array. Interesting, isn't it?\n",
        "- You can do all sorts of filtering as per your need by using `Boolean` array.\n"
      ]
    },
    {
      "cell_type": "code",
      "metadata": {
        "colab": {
          "base_uri": "https://localhost:8080/"
        },
        "id": "m8cwCR4-ylxZ",
        "outputId": "3ff54397-5aae-4254-e73a-0acb07dbfee2"
      },
      "source": [
        "#filter all the elements in range [5, 8]\n",
        "x[np.logical_and(x>=5, x<=8)]"
      ],
      "execution_count": null,
      "outputs": [
        {
          "output_type": "execute_result",
          "data": {
            "text/plain": [
              "array([5, 6, 7, 8])"
            ]
          },
          "metadata": {
            "tags": []
          },
          "execution_count": 40
        }
      ]
    },
    {
      "cell_type": "code",
      "metadata": {
        "colab": {
          "base_uri": "https://localhost:8080/"
        },
        "id": "pxuxjaRYzJ2_",
        "outputId": "7d24d857-5da2-470c-e007-562966280fb9"
      },
      "source": [
        "#filter all the elements either less than 2 or greater than 6\n",
        "x[np.logical_or(x<2, x>6)]"
      ],
      "execution_count": null,
      "outputs": [
        {
          "output_type": "execute_result",
          "data": {
            "text/plain": [
              "array([ 1,  7,  8,  9, 10])"
            ]
          },
          "metadata": {
            "tags": []
          },
          "execution_count": 41
        }
      ]
    },
    {
      "cell_type": "code",
      "metadata": {
        "colab": {
          "base_uri": "https://localhost:8080/"
        },
        "id": "DN4xGWWfz6yC",
        "outputId": "fca95124-232e-4715-9273-0ed01eda3ffd"
      },
      "source": [
        "# a concrete example: find the income of oldest person\n",
        "age = np.array([45, 23, 30, 65, 37])\n",
        "income = np.array([150, 100,75, 89, 68 ]) #income of respective age in thousands\n",
        "\n",
        "income[age == age.max()]"
      ],
      "execution_count": null,
      "outputs": [
        {
          "output_type": "execute_result",
          "data": {
            "text/plain": [
              "array([89])"
            ]
          },
          "metadata": {
            "tags": []
          },
          "execution_count": 42
        }
      ]
    },
    {
      "cell_type": "markdown",
      "metadata": {
        "id": "SbLFnJtOzbEn"
      },
      "source": [
        "- I think you got the point!\n",
        "- Note: Boolean `lists` or `tuples` also let you index `ndarrays` using `[]` notation."
      ]
    },
    {
      "cell_type": "code",
      "metadata": {
        "colab": {
          "base_uri": "https://localhost:8080/"
        },
        "id": "-sScZVR-9F3h",
        "outputId": "e94ce53c-715f-463b-8eee-b7e8aa0693be"
      },
      "source": [
        "bool_list = [True, False, False, True, True]\n",
        "age[bool_list]"
      ],
      "execution_count": null,
      "outputs": [
        {
          "output_type": "execute_result",
          "data": {
            "text/plain": [
              "array([45, 65, 37])"
            ]
          },
          "metadata": {
            "tags": []
          },
          "execution_count": 43
        }
      ]
    },
    {
      "cell_type": "markdown",
      "metadata": {
        "id": "EAgjB_VT9Wg6"
      },
      "source": [
        "## On 2D arrays \n",
        "> Requires More Attention!\n",
        "\n",
        "- While indexing 2D arrays, we can use boolean arrays in combination with the indexing syntax we saw earlier.\n",
        "\n",
        "- There's one catch, make sure the `dimension (row or column)` that you are trying to filter(w/boolean array) should be of same size as the `boolean` array. Example will make things more clear."
      ]
    },
    {
      "cell_type": "code",
      "metadata": {
        "colab": {
          "base_uri": "https://localhost:8080/"
        },
        "id": "GBMB3r6IzT6p",
        "outputId": "5a9c0e2d-7346-4986-cff9-3d05ee7e492b"
      },
      "source": [
        "row_bool= [True, False, True] #shape/size is equal to num_rows\n",
        "col_bool = [False, True, True, False]#shape/size is equal to num_cols\n",
        "print(Q.shape)\n",
        "Q"
      ],
      "execution_count": null,
      "outputs": [
        {
          "output_type": "stream",
          "text": [
            "(3, 4)\n"
          ],
          "name": "stdout"
        },
        {
          "output_type": "execute_result",
          "data": {
            "text/plain": [
              "array([[ 1,  2,  3,  4],\n",
              "       [ 5,  6,  7,  8],\n",
              "       [ 9, 10, 11, 12]])"
            ]
          },
          "metadata": {
            "tags": []
          },
          "execution_count": 44
        }
      ]
    },
    {
      "cell_type": "code",
      "metadata": {
        "colab": {
          "base_uri": "https://localhost:8080/"
        },
        "id": "swbwkRUd361z",
        "outputId": "2f161865-5f89-4510-fc39-48074e3a6060"
      },
      "source": [
        "#access 1st and 3rd row of columns in range:[2, 3]\n",
        "Q[row_bool, 1:3]"
      ],
      "execution_count": null,
      "outputs": [
        {
          "output_type": "execute_result",
          "data": {
            "text/plain": [
              "array([[ 2,  3],\n",
              "       [10, 11]])"
            ]
          },
          "metadata": {
            "tags": []
          },
          "execution_count": 45
        }
      ]
    },
    {
      "cell_type": "code",
      "metadata": {
        "colab": {
          "base_uri": "https://localhost:8080/"
        },
        "id": "Ry3azF2s7dHc",
        "outputId": "4f54f774-127a-4be5-f8d2-f8fb4717c62e"
      },
      "source": [
        "#access 2nd and 3rd column of all rows\n",
        "Q[:, col_bool]"
      ],
      "execution_count": null,
      "outputs": [
        {
          "output_type": "execute_result",
          "data": {
            "text/plain": [
              "array([[ 2,  3],\n",
              "       [ 6,  7],\n",
              "       [10, 11]])"
            ]
          },
          "metadata": {
            "tags": []
          },
          "execution_count": 46
        }
      ]
    },
    {
      "cell_type": "markdown",
      "metadata": {
        "id": "qTimcblaAYsT"
      },
      "source": [
        "so, you can filter 2D arrays depending on your need. Just remember the golden rule: \n",
        "> **shape of boolean array should be same as shape of the dimension you are trying to index**"
      ]
    },
    {
      "cell_type": "markdown",
      "metadata": {
        "id": "24UT4wUq_-hG"
      },
      "source": [
        "This won't work or if it works, gives you unexpected results:\n",
        "\n",
        "`Q[row_bool, col_bool]`\n",
        "\n",
        "So better not use above syntax."
      ]
    },
    {
      "cell_type": "markdown",
      "metadata": {
        "id": "yAdZTPiB3F95"
      },
      "source": [
        "# Assigning/Updating Values in ndarrays"
      ]
    },
    {
      "cell_type": "markdown",
      "metadata": {
        "id": "NwcCEjSs82Wx"
      },
      "source": [
        "## Using Index Notation"
      ]
    },
    {
      "cell_type": "code",
      "metadata": {
        "id": "hdDClVgO7_uq"
      },
      "source": [
        "fruits = np.array((\"apple\", \"banana\", \"orange\", \"peach\"))"
      ],
      "execution_count": null,
      "outputs": []
    },
    {
      "cell_type": "code",
      "metadata": {
        "colab": {
          "base_uri": "https://localhost:8080/"
        },
        "id": "fd6y7lOm0eGZ",
        "outputId": "b2f222c5-bac6-4b2d-883b-89a204f1a6ce"
      },
      "source": [
        "#update single  value\n",
        "fruits[0] = \"guava\"\n",
        "print(fruits)"
      ],
      "execution_count": null,
      "outputs": [
        {
          "output_type": "stream",
          "text": [
            "['guava' 'banana' 'orange' 'peach']\n"
          ],
          "name": "stdout"
        }
      ]
    },
    {
      "cell_type": "code",
      "metadata": {
        "colab": {
          "base_uri": "https://localhost:8080/"
        },
        "id": "iVhQNCAo6EhL",
        "outputId": "82fd9625-8934-4084-e615-dfeb4d8bbef0"
      },
      "source": [
        "#update a range with single value\n",
        "fruits[1:3] = \"kiwi\"\n",
        "print(fruits)"
      ],
      "execution_count": null,
      "outputs": [
        {
          "output_type": "stream",
          "text": [
            "['guava' 'kiwi' 'kiwi' 'peach']\n"
          ],
          "name": "stdout"
        }
      ]
    },
    {
      "cell_type": "code",
      "metadata": {
        "colab": {
          "base_uri": "https://localhost:8080/"
        },
        "id": "Bk3MKcfY7r5c",
        "outputId": "624da23c-1076-4395-d4c7-cbc3c610e5c9"
      },
      "source": [
        "print(Q)"
      ],
      "execution_count": null,
      "outputs": [
        {
          "output_type": "stream",
          "text": [
            "[[ 1  2  3  4]\n",
            " [ 5  6  7  8]\n",
            " [ 9 10 11 12]]\n"
          ],
          "name": "stdout"
        }
      ]
    },
    {
      "cell_type": "code",
      "metadata": {
        "colab": {
          "base_uri": "https://localhost:8080/"
        },
        "id": "9Qlg_aZh6Rz0",
        "outputId": "9427ef51-2053-4498-85a9-7c8af2978dc0"
      },
      "source": [
        "#update single value\n",
        "Q[1, 3] = 999\n",
        "print(Q)"
      ],
      "execution_count": null,
      "outputs": [
        {
          "output_type": "stream",
          "text": [
            "[[  1   2   3   4]\n",
            " [  5   6   7 999]\n",
            " [  9  10  11  12]]\n"
          ],
          "name": "stdout"
        }
      ]
    },
    {
      "cell_type": "code",
      "metadata": {
        "colab": {
          "base_uri": "https://localhost:8080/"
        },
        "id": "vBYulbuP6xRB",
        "outputId": "c2ffb3be-4867-4846-e69c-00e218b49e89"
      },
      "source": [
        "#update entire row\n",
        "Q[2, :] = 888\n",
        "print(Q)"
      ],
      "execution_count": null,
      "outputs": [
        {
          "output_type": "stream",
          "text": [
            "[[  1   2   3   4]\n",
            " [  5   6   7 999]\n",
            " [888 888 888 888]]\n"
          ],
          "name": "stdout"
        }
      ]
    },
    {
      "cell_type": "code",
      "metadata": {
        "colab": {
          "base_uri": "https://localhost:8080/"
        },
        "id": "wBsZFH4o7Fw0",
        "outputId": "14f7ea65-dc39-4805-c822-8f586966d43b"
      },
      "source": [
        "#update entire column\n",
        "Q[:, 2] = 666\n",
        "print(Q)"
      ],
      "execution_count": null,
      "outputs": [
        {
          "output_type": "stream",
          "text": [
            "[[  1   2 666   4]\n",
            " [  5   6 666 999]\n",
            " [888 888 666 888]]\n"
          ],
          "name": "stdout"
        }
      ]
    },
    {
      "cell_type": "markdown",
      "metadata": {
        "id": "j7pXSqIC85yQ"
      },
      "source": [
        "## Using Boolean Arrays"
      ]
    },
    {
      "cell_type": "code",
      "metadata": {
        "colab": {
          "base_uri": "https://localhost:8080/"
        },
        "id": "UZ26CXCN7LoE",
        "outputId": "e2a32e9f-960c-45f1-867b-5c8d5fe2b01c"
      },
      "source": [
        "#monthly earning in thousands\n",
        "monthly_earnings = np.array([20, -18, 9, -25, 50, 5])\n",
        "print(monthly_earnings)"
      ],
      "execution_count": null,
      "outputs": [
        {
          "output_type": "stream",
          "text": [
            "[ 20 -18   9 -25  50   5]\n"
          ],
          "name": "stdout"
        }
      ]
    },
    {
      "cell_type": "code",
      "metadata": {
        "colab": {
          "base_uri": "https://localhost:8080/"
        },
        "id": "ch4s7Fs18w-K",
        "outputId": "c0b7e8f8-ca84-447f-b13a-92186c31b5a5"
      },
      "source": [
        "#update negative earnings by mean of all values\n",
        "monthly_earnings[monthly_earnings < 0] = monthly_earnings.mean()\n",
        "monthly_earnings"
      ],
      "execution_count": null,
      "outputs": [
        {
          "output_type": "execute_result",
          "data": {
            "text/plain": [
              "array([20,  6,  9,  6, 50,  5])"
            ]
          },
          "metadata": {
            "tags": []
          },
          "execution_count": 55
        }
      ]
    },
    {
      "cell_type": "code",
      "metadata": {
        "colab": {
          "base_uri": "https://localhost:8080/"
        },
        "id": "TlxDUwfh9bX7",
        "outputId": "14e109c3-34cc-4d33-ef15-e46dbcc71855"
      },
      "source": [
        "#Assignment using 2D boolean array\n",
        "print(Q)"
      ],
      "execution_count": null,
      "outputs": [
        {
          "output_type": "stream",
          "text": [
            "[[  1   2 666   4]\n",
            " [  5   6 666 999]\n",
            " [888 888 666 888]]\n"
          ],
          "name": "stdout"
        }
      ]
    },
    {
      "cell_type": "code",
      "metadata": {
        "colab": {
          "base_uri": "https://localhost:8080/"
        },
        "id": "t9SLXTvv-pMQ",
        "outputId": "ecf301f3-508f-498f-e9a4-43aa3b35ed04"
      },
      "source": [
        "Q > 500"
      ],
      "execution_count": null,
      "outputs": [
        {
          "output_type": "execute_result",
          "data": {
            "text/plain": [
              "array([[False, False,  True, False],\n",
              "       [False, False,  True,  True],\n",
              "       [ True,  True,  True,  True]])"
            ]
          },
          "metadata": {
            "tags": []
          },
          "execution_count": 57
        }
      ]
    },
    {
      "cell_type": "code",
      "metadata": {
        "colab": {
          "base_uri": "https://localhost:8080/"
        },
        "id": "nZla0cq1Bi8J",
        "outputId": "6cb392b6-c98f-408c-ccdf-790f7f91e201"
      },
      "source": [
        "#update all values in Q greater than 500 to 0\n",
        "Q[Q>500] = 0\n",
        "print(Q)"
      ],
      "execution_count": null,
      "outputs": [
        {
          "output_type": "stream",
          "text": [
            "[[1 2 0 4]\n",
            " [5 6 0 0]\n",
            " [0 0 0 0]]\n"
          ],
          "name": "stdout"
        }
      ]
    },
    {
      "cell_type": "markdown",
      "metadata": {
        "id": "0MwTZAt6Hnyi"
      },
      "source": [
        "### Assigning 2D ndarray\n",
        "> Needs more ATTENTION++\n",
        "- I am going to discuss, the type of assignment that you'll need to do in __most__ cases as a Data Scientist.\n",
        "Its a little complex but here's the syntax,\n",
        "\n",
        "\n",
        "```python\n",
        "#update rows specified by row_bool in \n",
        "#the columns specified by column_range \n",
        "arr2D[row_bool, column_range] = value\n",
        "\n",
        "#Slightly complicated code\n",
        "arr2D[arr2D[:, column_for_comparison] == value_for_comparison, column_range] = new_value\n",
        "\n",
        "```\n",
        "Still confused? Here's another way to read it,\n",
        "- Based on a column(`colum_for_comparison`), filter rows.\n",
        "- Update some columns(`specified by column_range`) of these filtered rows.\n",
        "\n",
        "Real world example,\n",
        "1. Filter rows whose `miles_per_hour` column is greater than 20,000 (since this speed is practically impossible!)\n",
        "2. update `miles_per_hour`, `trip_length` and `trip_distance` of these filtered rows.\n",
        "\n",
        "Remember: `row_bool` should be of same size as number of rows.\n",
        "\n"
      ]
    },
    {
      "cell_type": "code",
      "metadata": {
        "colab": {
          "base_uri": "https://localhost:8080/"
        },
        "id": "eY0jQzMHBpbz",
        "outputId": "469502bb-addb-41df-ba06-375df46fa640"
      },
      "source": [
        "#assign 777 to 2nd and 3rd column \n",
        "#of rows-for which 1st column value is <= 2\n",
        "Q[Q[:, 0] <= 2, 1:3] = 777\n",
        "print(Q)"
      ],
      "execution_count": null,
      "outputs": [
        {
          "output_type": "stream",
          "text": [
            "[[  1 777 777   4]\n",
            " [  5   6   0   0]\n",
            " [  0 777 777   0]]\n"
          ],
          "name": "stdout"
        }
      ]
    },
    {
      "cell_type": "markdown",
      "metadata": {
        "id": "wZk22sPgZf0Y"
      },
      "source": [
        "# Miscs (Updated frequently...)\n",
        "1. [`np.isin(a, b)`](https://numpy.org/doc/stable/reference/generated/numpy.isin.html?highlight=isin#numpy.isin)\n",
        "\n",
        "    - for-loop-equiv: [item in b for item in a] for 1D `ndarrays`"
      ]
    }
  ]
}